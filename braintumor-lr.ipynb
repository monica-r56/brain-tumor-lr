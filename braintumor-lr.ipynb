from keras.callbacks import EarlyStopping,ReduceLROnPlateau,ModelCheckpoint,TensorBoard,LambdaCallback
from keras.layers import Input,Dropout, Dense,GlobalAveragePooling2D
from keras.models import Sequential,Model
from keras.applications.resnet import ResNet50
from keras.preprocessing.image import ImageDataGenerator
from sklearn.model_selection import train_test_split
from sklearn.metrics import confusion_matrix,classification_report
from sklearn.utils import shuffle
import matplotlib.pyplot as plt
from tensorflow import keras
import tensorflow as tf
from tqdm import tqdm
import seaborn as sns
import numpy as np
import itertools
import datetime

import cv2
import io

#mount datasets from drive with folders named as the classes

classes={'notumor':0, 'pituitary':1, 'glioma':2, 'meningioma':3}

X=[]
Y=[]
for cls in classes:
  pth=' /training dataset path/ '+cls
  for j in os.listdir(pth):
    img=cv2.imread(pth+'/'+j,0)
    img=cv2.resize(img,(200,200))
    X.append(img)
    Y.append(classes[cls])
X=np.array(X)
Y=np.array(Y)

xtrain, xtest, ytrain, ytest=train_test_split(X_updated, Y, random_state=10, test_size=.20)

xtrain=xtrain/255
xtest=xtest/255

#feature selection pca
from sklearn.decomposition import PCA
print(xtrain.shape, xtest.shape)
pca=PCA(.98)
pca_train=xtrain
pca_test=xtest

#training model
from sklearn.linear_model import LogisticRegression
from sklearn.svm import SVC

lg=LogisticRegression(C=0.1)
lg.fit(pca_train, ytrain)

#evaluation
print("Training Accuracy: ",lg.score(pca_train, ytrain))
print("Testing Accuracy: ",lg.score(pca_test, ytest))

#prediction of class of data
pred[/index/]